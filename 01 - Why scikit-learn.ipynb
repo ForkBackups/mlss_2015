{
 "cells": [
  {
   "cell_type": "markdown",
   "metadata": {},
   "source": [
    "# What is Scikit-learn?\n",
    "* A machine learning library in python\n",
    "\n",
    "## What does it do?\n",
    "* Easy to use, efficient implementations of standard algorithms:\n",
    "  * SVMs, linear models, tree models, K-Means, T-SNE, NMF, ICA, ...\n",
    "* tools for preprocessing, model selection, model evaluation, building workflows\n",
    "    * cross validation, grid search, randomized search, pipelines, scoring functions, roc curve, ...\n",
    "* not necessary easy to adapt the algorithms\n",
    "\n",
    "## What does it not do?\n",
    "* No reinforcement learning.\n",
    "* limited deep learning (no GPU).\n",
    "* No structured prediction / sequence algorithms.\n",
    "* limited support for missing values.\n",
    "\n",
    "## Why should you care?\n",
    "* Makes it trivial to apply baselines to your problem.\n",
    "* Provides \"standard\" bits of your ML worflow.\n",
    "* Tooling in which you can plug in your custom model with ease."
   ]
  },
  {
   "cell_type": "markdown",
   "metadata": {
    "collapsed": true
   },
   "source": [
    "#scikit-learn.github.io/dev"
   ]
  },
  {
   "cell_type": "code",
   "execution_count": null,
   "metadata": {
    "collapsed": true
   },
   "outputs": [],
   "source": []
  }
 ],
 "metadata": {
  "kernelspec": {
   "display_name": "Python 2",
   "language": "python",
   "name": "python2"
  },
  "language_info": {
   "codemirror_mode": {
    "name": "ipython",
    "version": 2
   },
   "file_extension": ".py",
   "mimetype": "text/x-python",
   "name": "python",
   "nbconvert_exporter": "python",
   "pygments_lexer": "ipython2",
   "version": "2.7.6"
  }
 },
 "nbformat": 4,
 "nbformat_minor": 0
}
