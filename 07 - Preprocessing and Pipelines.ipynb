{
 "cells": [
  {
   "cell_type": "code",
   "execution_count": 1,
   "metadata": {
    "collapsed": true
   },
   "outputs": [],
   "source": [
    "%matplotlib inline\n",
    "import matplotlib.pyplot as plt\n",
    "import numpy as np"
   ]
  },
  {
   "cell_type": "markdown",
   "metadata": {},
   "source": [
    "Preprocessing and Pipelines\n",
    "============================="
   ]
  },
  {
   "cell_type": "code",
   "execution_count": 2,
   "metadata": {
    "collapsed": false
   },
   "outputs": [],
   "source": [
    "from sklearn.datasets import load_digits\n",
    "from sklearn.cross_validation import train_test_split\n",
    "digits = load_digits()\n",
    "X_train, X_test, y_train, y_test = train_test_split(digits.data, digits.target)"
   ]
  },
  {
   "cell_type": "markdown",
   "metadata": {},
   "source": [
    "Cross-validated pipelines including scaling, we need to estimate mean and standard deviation separately for each fold.\n",
    "To do that, we build a pipeline."
   ]
  },
  {
   "cell_type": "code",
   "execution_count": 3,
   "metadata": {
    "collapsed": false
   },
   "outputs": [],
   "source": [
    "from sklearn.pipeline import Pipeline\n",
    "from sklearn.svm import SVC\n",
    "from sklearn.preprocessing import StandardScaler"
   ]
  },
  {
   "cell_type": "code",
   "execution_count": 4,
   "metadata": {
    "collapsed": false
   },
   "outputs": [],
   "source": [
    "pipeline = Pipeline([(\"scaler\", StandardScaler()), (\"svm\", SVC())])\n",
    "# in new versions: make_pipeline(StandardScaler(), SVC())"
   ]
  },
  {
   "cell_type": "code",
   "execution_count": 5,
   "metadata": {
    "collapsed": false
   },
   "outputs": [
    {
     "data": {
      "text/plain": [
       "Pipeline(steps=[('scaler', StandardScaler(copy=True, with_mean=True, with_std=True)), ('svm', SVC(C=1.0, cache_size=200, class_weight=None, coef0=0.0, degree=3,\n",
       "  gamma='auto', kernel='rbf', max_iter=-1, probability=False,\n",
       "  random_state=None, shrinking=True, tol=0.001, verbose=False))])"
      ]
     },
     "execution_count": 5,
     "metadata": {},
     "output_type": "execute_result"
    }
   ],
   "source": [
    "pipeline.fit(X_train, y_train)"
   ]
  },
  {
   "cell_type": "code",
   "execution_count": 6,
   "metadata": {
    "collapsed": false
   },
   "outputs": [
    {
     "data": {
      "text/plain": [
       "array([2, 4, 2, 8, 4, 7, 8, 5, 4, 7, 3, 9, 5, 4, 1, 1, 1, 3, 1, 3, 5, 6, 0,\n",
       "       0, 1, 5, 9, 9, 4, 2, 7, 4, 3, 6, 7, 8, 5, 9, 6, 7, 0, 5, 5, 0, 1, 0,\n",
       "       4, 5, 5, 9, 2, 2, 0, 5, 6, 8, 2, 0, 6, 5, 4, 0, 2, 1, 6, 5, 5, 9, 5,\n",
       "       3, 8, 5, 4, 9, 0, 3, 2, 1, 7, 3, 2, 4, 1, 5, 0, 6, 9, 2, 3, 3, 6, 4,\n",
       "       1, 4, 3, 7, 9, 7, 6, 1, 2, 4, 7, 4, 4, 6, 6, 7, 6, 3, 1, 3, 1, 5, 2,\n",
       "       2, 1, 9, 3, 0, 7, 7, 8, 2, 4, 8, 9, 8, 2, 5, 6, 3, 3, 6, 5, 9, 9, 0,\n",
       "       0, 0, 8, 2, 4, 9, 4, 5, 3, 2, 5, 0, 6, 5, 7, 7, 5, 9, 3, 8, 1, 3, 9,\n",
       "       5, 6, 0, 3, 6, 0, 8, 5, 9, 7, 0, 9, 7, 5, 8, 3, 9, 8, 4, 4, 1, 6, 2,\n",
       "       4, 7, 0, 3, 1, 9, 2, 3, 5, 9, 1, 3, 7, 4, 7, 6, 1, 7, 3, 8, 2, 5, 3,\n",
       "       7, 2, 6, 6, 3, 6, 6, 1, 9, 7, 4, 1, 7, 4, 6, 6, 1, 7, 0, 3, 6, 0, 6,\n",
       "       0, 1, 5, 7, 0, 2, 5, 8, 3, 9, 8, 5, 0, 4, 6, 3, 5, 9, 8, 1, 3, 4, 7,\n",
       "       1, 7, 2, 1, 9, 8, 7, 8, 1, 6, 8, 7, 9, 5, 0, 9, 8, 4, 6, 0, 5, 4, 2,\n",
       "       8, 8, 7, 0, 0, 6, 7, 7, 4, 0, 3, 8, 7, 0, 3, 5, 4, 1, 0, 1, 9, 4, 2,\n",
       "       6, 0, 2, 5, 6, 9, 8, 8, 7, 3, 1, 3, 1, 6, 8, 2, 1, 9, 2, 3, 9, 2, 0,\n",
       "       4, 9, 4, 7, 9, 2, 1, 6, 3, 7, 0, 7, 1, 5, 8, 1, 8, 2, 9, 7, 9, 6, 6,\n",
       "       4, 8, 1, 2, 3, 4, 8, 8, 6, 3, 2, 4, 5, 6, 0, 3, 8, 6, 7, 6, 6, 8, 8,\n",
       "       8, 7, 5, 9, 8, 6, 8, 2, 9, 5, 1, 8, 9, 4, 4, 6, 2, 7, 7, 5, 5, 6, 6,\n",
       "       2, 1, 1, 5, 5, 7, 4, 8, 7, 9, 5, 5, 2, 9, 5, 3, 2, 5, 1, 9, 9, 3, 2,\n",
       "       9, 3, 5, 6, 8, 5, 4, 1, 0, 3, 4, 0, 3, 8, 2, 2, 8, 1, 3, 8, 7, 9, 1,\n",
       "       0, 1, 8, 5, 3, 8, 1, 2, 6, 0, 3, 7, 6])"
      ]
     },
     "execution_count": 6,
     "metadata": {},
     "output_type": "execute_result"
    }
   ],
   "source": [
    "pipeline.predict(X_test)"
   ]
  },
  {
   "cell_type": "markdown",
   "metadata": {},
   "source": [
    "Cross-validation with a pipeline\n",
    "---------------------------------"
   ]
  },
  {
   "cell_type": "code",
   "execution_count": 7,
   "metadata": {
    "collapsed": false
   },
   "outputs": [
    {
     "data": {
      "text/plain": [
       "array([ 0.97130243,  0.97550111,  0.9752809 ])"
      ]
     },
     "execution_count": 7,
     "metadata": {},
     "output_type": "execute_result"
    }
   ],
   "source": [
    "from sklearn.cross_validation import cross_val_score\n",
    "cross_val_score(pipeline, X_train, y_train)"
   ]
  },
  {
   "cell_type": "markdown",
   "metadata": {},
   "source": [
    "Grid Search with a pipeline\n",
    "==========================="
   ]
  },
  {
   "cell_type": "code",
   "execution_count": 8,
   "metadata": {
    "collapsed": false
   },
   "outputs": [],
   "source": [
    "from sklearn.grid_search import GridSearchCV\n",
    "\n",
    "param_grid = {'svm__C': 10. ** np.arange(-3, 3),\n",
    "              'svm__gamma' : 10. ** np.arange(-3, 3)}\n",
    "\n",
    "grid_pipeline = GridSearchCV(pipeline, param_grid=param_grid, n_jobs=-1)"
   ]
  },
  {
   "cell_type": "code",
   "execution_count": 9,
   "metadata": {
    "collapsed": false
   },
   "outputs": [
    {
     "data": {
      "text/plain": [
       "GridSearchCV(cv=None, error_score='raise',\n",
       "       estimator=Pipeline(steps=[('scaler', StandardScaler(copy=True, with_mean=True, with_std=True)), ('svm', SVC(C=1.0, cache_size=200, class_weight=None, coef0=0.0, degree=3,\n",
       "  gamma='auto', kernel='rbf', max_iter=-1, probability=False,\n",
       "  random_state=None, shrinking=True, tol=0.001, verbose=False))]),\n",
       "       fit_params={}, iid=True, n_jobs=-1,\n",
       "       param_grid={'svm__C': array([  1.00000e-03,   1.00000e-02,   1.00000e-01,   1.00000e+00,\n",
       "         1.00000e+01,   1.00000e+02]), 'svm__gamma': array([  1.00000e-03,   1.00000e-02,   1.00000e-01,   1.00000e+00,\n",
       "         1.00000e+01,   1.00000e+02])},\n",
       "       pre_dispatch='2*n_jobs', refit=True, scoring=None, verbose=0)"
      ]
     },
     "execution_count": 9,
     "metadata": {},
     "output_type": "execute_result"
    }
   ],
   "source": [
    "grid_pipeline.fit(X_train, y_train)"
   ]
  },
  {
   "cell_type": "code",
   "execution_count": 10,
   "metadata": {
    "collapsed": false
   },
   "outputs": [
    {
     "data": {
      "text/plain": [
       "0.97333333333333338"
      ]
     },
     "execution_count": 10,
     "metadata": {},
     "output_type": "execute_result"
    }
   ],
   "source": [
    "grid_pipeline.score(X_test, y_test)"
   ]
  },
  {
   "cell_type": "markdown",
   "metadata": {
    "collapsed": false
   },
   "source": [
    "# Exercises\n",
    "Add random features to the iris dataset using ``np.random.uniform`` and ``np.hstack``.\n",
    "\n",
    "Build a pipeline using the KBest univariate feature selection from the sklearn.feature_selection module and the LinearSVC on the iris dataset.\n",
    "\n",
    "Use GridSearchCV to adjust C and the number of features selected in KBest."
   ]
  },
  {
   "cell_type": "code",
   "execution_count": 23,
   "metadata": {
    "collapsed": false,
    "scrolled": true
   },
   "outputs": [
    {
     "name": "stdout",
     "output_type": "stream",
     "text": [
      "Best parameters: {'linearsvc__C': 1.0, 'selectkbest__k': 5}\n",
      "Test set performance: 1.0\n"
     ]
    }
   ],
   "source": [
    "# %load solutions/pipeline_iris.py\n",
    "from sklearn.datasets import load_iris\n",
    "from sklearn.feature_selection import SelectKBest\n",
    "from sklearn.pipeline import make_pipeline\n",
    "from sklearn.svm import LinearSVC\n",
    "\n",
    "rng = np.random.RandomState(42)\n",
    "iris = load_iris()\n",
    "X = np.hstack([iris.data, rng.uniform(size=(len(iris.data), 5))])\n",
    "X_train, X_test, y_train, y_test = train_test_split(X, iris.target, random_state=)\n",
    "\n",
    "selection_pipe = make_pipeline(SelectKBest(), LinearSVC())\n",
    "param_grid = {'linearsvc__C': 10. ** np.arange(-3, 3),\n",
    "                            'selectkbest__k': [1, 2, 3, 4, 5, 7]}\n",
    "grid = GridSearchCV(selection_pipe, param_grid, cv=5)\n",
    "grid.fit(X_train, y_train)\n",
    "print(\"Best parameters: %s\" % grid.best_params_)\n",
    "print(\"Test set performance: %s\" % grid.score(X_test, y_test))"
   ]
  },
  {
   "cell_type": "code",
   "execution_count": null,
   "metadata": {
    "collapsed": true
   },
   "outputs": [],
   "source": []
  }
 ],
 "metadata": {
  "kernelspec": {
   "display_name": "Python 2",
   "language": "python",
   "name": "python2"
  },
  "language_info": {
   "codemirror_mode": {
    "name": "ipython",
    "version": 2
   },
   "file_extension": ".py",
   "mimetype": "text/x-python",
   "name": "python",
   "nbconvert_exporter": "python",
   "pygments_lexer": "ipython2",
   "version": "2.7.6"
  }
 },
 "nbformat": 4,
 "nbformat_minor": 0
}
