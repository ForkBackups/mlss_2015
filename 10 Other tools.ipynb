{
 "cells": [
  {
   "cell_type": "markdown",
   "metadata": {},
   "source": [
    "# Use the tools that work for you\n",
    "\n",
    "## Python libraries:\n",
    "* pystruct (structured prediction)\n",
    "* lightning (great linear models)\n",
    "* pybrain (reinforcement learning)\n",
    "* theano / lasagna / keras (deep learning)\n",
    "* pymc (MCMC)\n",
    "\n",
    "## Lua:\n",
    "* Torch / nn (Deep learning)\n",
    "\n",
    "## C++ libraries:\n",
    "* MLpack (fast, tree-based models)\n",
    "* dlib (structured)\n",
    "* bidmach\n",
    "\n",
    "## Many-language interfaces:\n",
    "* Shogun (C++ implementations, many algorithms, focused on kernels)\n",
    "* H2O (java implementation, many algorithms)\n",
    "* dato / graphlab (C++ implementations, many algorithms)\n",
    "\n",
    "## Scala\n",
    "* Factorie (PGMs)\n",
    "\n",
    "## Julia\n",
    "* [many that I don't know very well]"
   ]
  }
 ],
 "metadata": {
  "kernelspec": {
   "display_name": "Python 2",
   "language": "python",
   "name": "python2"
  },
  "language_info": {
   "codemirror_mode": {
    "name": "ipython",
    "version": 2
   },
   "file_extension": ".py",
   "mimetype": "text/x-python",
   "name": "python",
   "nbconvert_exporter": "python",
   "pygments_lexer": "ipython2",
   "version": "2.7.9"
  }
 },
 "nbformat": 4,
 "nbformat_minor": 0
}
