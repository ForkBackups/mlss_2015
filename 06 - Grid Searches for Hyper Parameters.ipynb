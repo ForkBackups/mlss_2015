{
 "cells": [
  {
   "cell_type": "markdown",
   "metadata": {},
   "source": [
    "Grid Searches\n",
    "================="
   ]
  },
  {
   "cell_type": "markdown",
   "metadata": {},
   "source": [
    "Grid-Search with build-in cross validation"
   ]
  },
  {
   "cell_type": "code",
   "execution_count": 1,
   "metadata": {
    "collapsed": false
   },
   "outputs": [],
   "source": [
    "from sklearn.grid_search import GridSearchCV\n",
    "from sklearn.svm import SVC"
   ]
  },
  {
   "cell_type": "code",
   "execution_count": 2,
   "metadata": {
    "collapsed": false
   },
   "outputs": [],
   "source": [
    "from sklearn.datasets import load_digits\n",
    "from sklearn.cross_validation import train_test_split\n",
    "digits = load_digits()\n",
    "X_train, X_test, y_train, y_test = train_test_split(digits.data, digits.target)"
   ]
  },
  {
   "cell_type": "markdown",
   "metadata": {},
   "source": [
    "Define parameter grid:"
   ]
  },
  {
   "cell_type": "code",
   "execution_count": 3,
   "metadata": {
    "collapsed": false
   },
   "outputs": [
    {
     "name": "stdout",
     "output_type": "stream",
     "text": [
      "{'C': array([   0.001,    0.01 ,    0.1  ,    1.   ,   10.   ,  100.   ]), 'gamma': array([ 0.00001,  0.0001 ,  0.001  ,  0.01   ,  0.1    ])}\n"
     ]
    }
   ],
   "source": [
    "import numpy as np\n",
    "\n",
    "param_grid = {'C': 10. ** np.arange(-3, 3),\n",
    "              'gamma' : 10. ** np.arange(-5, 0)}\n",
    "\n",
    "np.set_printoptions(suppress=True)\n",
    "print(param_grid)"
   ]
  },
  {
   "cell_type": "code",
   "execution_count": 4,
   "metadata": {
    "collapsed": false
   },
   "outputs": [],
   "source": [
    "grid_search = GridSearchCV(SVC(), param_grid, verbose=3)"
   ]
  },
  {
   "cell_type": "markdown",
   "metadata": {},
   "source": [
    "A GridSearchCV object behaves just like a normal classifier."
   ]
  },
  {
   "cell_type": "code",
   "execution_count": 5,
   "metadata": {
    "collapsed": false
   },
   "outputs": [
    {
     "name": "stdout",
     "output_type": "stream",
     "text": [
      "Fitting 3 folds for each of 30 candidates, totalling 90 fits\n",
      "[CV] C=0.001, gamma=1e-05 ............................................\n",
      "[CV] ................... C=0.001, gamma=1e-05, score=0.105727 -   0.2s\n",
      "[CV] C=0.001, gamma=1e-05 ............................................\n",
      "[CV] ................... C=0.001, gamma=1e-05, score=0.104677 -   0.2s\n",
      "[CV] C=0.001, gamma=1e-05 ............................................\n",
      "[CV] ................... C=0.001, gamma=1e-05, score=0.105856 -   0.2s\n",
      "[CV] C=0.001, gamma=0.0001 ...........................................\n",
      "[CV] .................. C=0.001, gamma=0.0001, score=0.105727 -   0.2s\n",
      "[CV] C=0.001, gamma=0.0001 ...........................................\n",
      "[CV] .................. C=0.001, gamma=0.0001, score=0.104677 -   0.2s\n",
      "[CV] C=0.001, gamma=0.0001 ...........................................\n",
      "[CV] .................. C=0.001, gamma=0.0001, score=0.105856 -   0.2s\n",
      "[CV] C=0.001, gamma=0.001 ............................................\n",
      "[CV] ................... C=0.001, gamma=0.001, score=0.105727 -   0.2s\n",
      "[CV] C=0.001, gamma=0.001 ............................................\n",
      "[CV] ................... C=0.001, gamma=0.001, score=0.104677 -   0.2s\n",
      "[CV] C=0.001, gamma=0.001 ............................................\n",
      "[CV] ................... C=0.001, gamma=0.001, score=0.105856 -   0.2s\n",
      "[CV] C=0.001, gamma=0.01 .............................................\n",
      "[CV] .................... C=0.001, gamma=0.01, score=0.105727 -   0.2s\n",
      "[CV] C=0.001, gamma=0.01 .............................................\n",
      "[CV] .................... C=0.001, gamma=0.01, score=0.104677 -   0.2s\n",
      "[CV] C=0.001, gamma=0.01 .............................................\n",
      "[CV] .................... C=0.001, gamma=0.01, score=0.105856 -   0.2s\n",
      "[CV] C=0.001, gamma=0.1 ..............................................\n",
      "[CV] ..................... C=0.001, gamma=0.1, score=0.105727 -   0.2s\n",
      "[CV] C=0.001, gamma=0.1 ..............................................\n",
      "[CV] ..................... C=0.001, gamma=0.1, score=0.104677 -   0.2s\n",
      "[CV] C=0.001, gamma=0.1 ..............................................\n",
      "[CV] ..................... C=0.001, gamma=0.1, score=0.105856 -   0.2s\n",
      "[CV] C=0.01, gamma=1e-05 .............................................\n",
      "[CV] .................... C=0.01, gamma=1e-05, score=0.105727 -   0.2s\n",
      "[CV] C=0.01, gamma=1e-05 .............................................\n",
      "[CV] .................... C=0.01, gamma=1e-05, score=0.104677 -   0.2s\n",
      "[CV] C=0.01, gamma=1e-05 .............................................\n",
      "[CV] .................... C=0.01, gamma=1e-05, score=0.105856 -   0.2s\n",
      "[CV] C=0.01, gamma=0.0001 ............................................\n",
      "[CV] ................... C=0.01, gamma=0.0001, score=0.105727 -   0.2s\n",
      "[CV] C=0.01, gamma=0.0001 ............................................\n",
      "[CV] ................... C=0.01, gamma=0.0001, score=0.104677 -   0.2s\n",
      "[CV] C=0.01, gamma=0.0001 ............................................\n",
      "[CV] ................... C=0.01, gamma=0.0001, score=0.105856 -   0.2s\n",
      "[CV] C=0.01, gamma=0.001 .............................................\n",
      "[CV] .................... C=0.01, gamma=0.001, score=0.105727 -   0.2s\n",
      "[CV] C=0.01, gamma=0.001 .............................................\n",
      "[CV] .................... C=0.01, gamma=0.001, score=0.104677 -   0.2s\n",
      "[CV] C=0.01, gamma=0.001 .............................................\n",
      "[CV] .................... C=0.01, gamma=0.001, score=0.105856 -   0.2s\n",
      "[CV] C=0.01, gamma=0.01 ..............................................\n",
      "[CV] ..................... C=0.01, gamma=0.01, score=0.105727 -   0.2s\n",
      "[CV] C=0.01, gamma=0.01 ..............................................\n",
      "[CV] ..................... C=0.01, gamma=0.01, score=0.104677 -   0.2s\n",
      "[CV] C=0.01, gamma=0.01 ..............................................\n",
      "[CV] ..................... C=0.01, gamma=0.01, score=0.105856 -   0.2s\n",
      "[CV] C=0.01, gamma=0.1 ...............................................\n",
      "[CV] ...................... C=0.01, gamma=0.1, score=0.105727 -   0.2s\n",
      "[CV] C=0.01, gamma=0.1 ...............................................\n",
      "[CV] ...................... C=0.01, gamma=0.1, score=0.104677 -   0.2s\n",
      "[CV] C=0.01, gamma=0.1 ...............................................\n",
      "[CV] ...................... C=0.01, gamma=0.1, score=0.105856 -   0.2s\n",
      "[CV] C=0.1, gamma=1e-05 ..............................................\n",
      "[CV] ..................... C=0.1, gamma=1e-05, score=0.105727 -   0.2s\n",
      "[CV] C=0.1, gamma=1e-05 ..............................................\n",
      "[CV] ..................... C=0.1, gamma=1e-05, score=0.104677 -   0.2s"
     ]
    },
    {
     "name": "stderr",
     "output_type": "stream",
     "text": [
      "[Parallel(n_jobs=1)]: Done   1 jobs       | elapsed:    0.2s\n",
      "[Parallel(n_jobs=1)]: Done  32 jobs       | elapsed:    6.1s\n"
     ]
    },
    {
     "name": "stdout",
     "output_type": "stream",
     "text": [
      "\n",
      "[CV] C=0.1, gamma=1e-05 ..............................................\n",
      "[CV] ..................... C=0.1, gamma=1e-05, score=0.105856 -   0.2s\n",
      "[CV] C=0.1, gamma=0.0001 .............................................\n",
      "[CV] .................... C=0.1, gamma=0.0001, score=0.773128 -   0.2s\n",
      "[CV] C=0.1, gamma=0.0001 .............................................\n",
      "[CV] .................... C=0.1, gamma=0.0001, score=0.786192 -   0.2s\n",
      "[CV] C=0.1, gamma=0.0001 .............................................\n",
      "[CV] .................... C=0.1, gamma=0.0001, score=0.770270 -   0.2s\n",
      "[CV] C=0.1, gamma=0.001 ..............................................\n",
      "[CV] ..................... C=0.1, gamma=0.001, score=0.936123 -   0.1s\n",
      "[CV] C=0.1, gamma=0.001 ..............................................\n",
      "[CV] ..................... C=0.1, gamma=0.001, score=0.955457 -   0.1s\n",
      "[CV] C=0.1, gamma=0.001 ..............................................\n",
      "[CV] ..................... C=0.1, gamma=0.001, score=0.963964 -   0.1s\n",
      "[CV] C=0.1, gamma=0.01 ...............................................\n",
      "[CV] ...................... C=0.1, gamma=0.01, score=0.105727 -   0.2s\n",
      "[CV] C=0.1, gamma=0.01 ...............................................\n",
      "[CV] ...................... C=0.1, gamma=0.01, score=0.104677 -   0.2s\n",
      "[CV] C=0.1, gamma=0.01 ...............................................\n",
      "[CV] ...................... C=0.1, gamma=0.01, score=0.105856 -   0.2s\n",
      "[CV] C=0.1, gamma=0.1 ................................................\n",
      "[CV] ....................... C=0.1, gamma=0.1, score=0.105727 -   0.2s\n",
      "[CV] C=0.1, gamma=0.1 ................................................\n",
      "[CV] ....................... C=0.1, gamma=0.1, score=0.104677 -   0.2s\n",
      "[CV] C=0.1, gamma=0.1 ................................................\n",
      "[CV] ....................... C=0.1, gamma=0.1, score=0.105856 -   0.2s\n",
      "[CV] C=1.0, gamma=1e-05 ..............................................\n",
      "[CV] ..................... C=1.0, gamma=1e-05, score=0.801762 -   0.2s\n",
      "[CV] C=1.0, gamma=1e-05 ..............................................\n",
      "[CV] ..................... C=1.0, gamma=1e-05, score=0.821826 -   0.2s\n",
      "[CV] C=1.0, gamma=1e-05 ..............................................\n",
      "[CV] ..................... C=1.0, gamma=1e-05, score=0.817568 -   0.2s\n",
      "[CV] C=1.0, gamma=0.0001 .............................................\n",
      "[CV] .................... C=1.0, gamma=0.0001, score=0.960352 -   0.1s\n",
      "[CV] C=1.0, gamma=0.0001 .............................................\n",
      "[CV] .................... C=1.0, gamma=0.0001, score=0.966592 -   0.1s\n",
      "[CV] C=1.0, gamma=0.0001 .............................................\n",
      "[CV] .................... C=1.0, gamma=0.0001, score=0.972973 -   0.1s\n",
      "[CV] C=1.0, gamma=0.001 ..............................................\n",
      "[CV] ..................... C=1.0, gamma=0.001, score=0.984581 -   0.1s\n",
      "[CV] C=1.0, gamma=0.001 ..............................................\n",
      "[CV] ..................... C=1.0, gamma=0.001, score=0.995546 -   0.1s\n",
      "[CV] C=1.0, gamma=0.001 ..............................................\n",
      "[CV] ..................... C=1.0, gamma=0.001, score=0.988739 -   0.1s\n",
      "[CV] C=1.0, gamma=0.01 ...............................................\n",
      "[CV] ...................... C=1.0, gamma=0.01, score=0.775330 -   0.2s\n",
      "[CV] C=1.0, gamma=0.01 ...............................................\n",
      "[CV] ...................... C=1.0, gamma=0.01, score=0.748330 -   0.2s\n",
      "[CV] C=1.0, gamma=0.01 ...............................................\n",
      "[CV] ...................... C=1.0, gamma=0.01, score=0.752252 -   0.2s\n",
      "[CV] C=1.0, gamma=0.1 ................................................\n",
      "[CV] ....................... C=1.0, gamma=0.1, score=0.105727 -   0.2s\n",
      "[CV] C=1.0, gamma=0.1 ................................................\n",
      "[CV] ....................... C=1.0, gamma=0.1, score=0.104677 -   0.2s\n",
      "[CV] C=1.0, gamma=0.1 ................................................\n",
      "[CV] ....................... C=1.0, gamma=0.1, score=0.105856 -   0.2s\n",
      "[CV] C=10.0, gamma=1e-05 .............................................\n",
      "[CV] .................... C=10.0, gamma=1e-05, score=0.960352 -   0.1s\n",
      "[CV] C=10.0, gamma=1e-05 .............................................\n",
      "[CV] .................... C=10.0, gamma=1e-05, score=0.962138 -   0.1s\n",
      "[CV] C=10.0, gamma=1e-05 .............................................\n",
      "[CV] .................... C=10.0, gamma=1e-05, score=0.970721 -   0.1s\n",
      "[CV] C=10.0, gamma=0.0001 ............................................\n",
      "[CV] ................... C=10.0, gamma=0.0001, score=0.986784 -   0.0s\n",
      "[CV] C=10.0, gamma=0.0001 ............................................\n",
      "[CV] ................... C=10.0, gamma=0.0001, score=0.986637 -   0.0s\n",
      "[CV] C=10.0, gamma=0.0001 ............................................\n",
      "[CV] ................... C=10.0, gamma=0.0001, score=0.984234 -   0.0s\n",
      "[CV] C=10.0, gamma=0.001 .............................................\n",
      "[CV] .................... C=10.0, gamma=0.001, score=0.986784 -   0.1s\n",
      "[CV] C=10.0, gamma=0.001 .............................................\n",
      "[CV] .................... C=10.0, gamma=0.001, score=0.995546 -   0.1s\n",
      "[CV] C=10.0, gamma=0.001 .............................................\n",
      "[CV] .................... C=10.0, gamma=0.001, score=0.988739 -   0.1s\n",
      "[CV] C=10.0, gamma=0.01 ..............................................\n",
      "[CV] ..................... C=10.0, gamma=0.01, score=0.788546 -   0.2s\n",
      "[CV] C=10.0, gamma=0.01 ..............................................\n",
      "[CV] ..................... C=10.0, gamma=0.01, score=0.770601 -   0.2s\n",
      "[CV] C=10.0, gamma=0.01 ..............................................\n",
      "[CV] ..................... C=10.0, gamma=0.01, score=0.779279 -   0.2s\n",
      "[CV] C=10.0, gamma=0.1 ...............................................\n",
      "[CV] ...................... C=10.0, gamma=0.1, score=0.105727 -   0.2s\n",
      "[CV] C=10.0, gamma=0.1 ...............................................\n",
      "[CV] ...................... C=10.0, gamma=0.1, score=0.104677 -   0.2s\n",
      "[CV] C=10.0, gamma=0.1 ...............................................\n",
      "[CV] ...................... C=10.0, gamma=0.1, score=0.105856 -   0.2s\n",
      "[CV] C=100.0, gamma=1e-05 ............................................\n",
      "[CV] ................... C=100.0, gamma=1e-05, score=0.980176 -   0.0s\n",
      "[CV] C=100.0, gamma=1e-05 ............................................\n",
      "[CV] ................... C=100.0, gamma=1e-05, score=0.984410 -   0.0s\n",
      "[CV] C=100.0, gamma=1e-05 ............................................\n",
      "[CV] ................... C=100.0, gamma=1e-05, score=0.981982 -   0.0s\n",
      "[CV] C=100.0, gamma=0.0001 ...........................................\n",
      "[CV] .................. C=100.0, gamma=0.0001, score=0.986784 -   0.0s\n",
      "[CV] C=100.0, gamma=0.0001 ...........................................\n",
      "[CV] .................. C=100.0, gamma=0.0001, score=0.979955 -   0.0s\n",
      "[CV] C=100.0, gamma=0.0001 ...........................................\n",
      "[CV] .................. C=100.0, gamma=0.0001, score=0.986486 -   0.0s\n",
      "[CV] C=100.0, gamma=0.001 ............................................\n",
      "[CV] ................... C=100.0, gamma=0.001, score=0.986784 -   0.1s\n",
      "[CV] C=100.0, gamma=0.001 ............................................\n",
      "[CV] ................... C=100.0, gamma=0.001, score=0.995546 -   0.1s\n",
      "[CV] C=100.0, gamma=0.001 ............................................\n",
      "[CV] ................... C=100.0, gamma=0.001, score=0.988739 -   0.1s\n",
      "[CV] C=100.0, gamma=0.01 .............................................\n",
      "[CV] .................... C=100.0, gamma=0.01, score=0.788546 -   0.2s\n",
      "[CV] C=100.0, gamma=0.01 .............................................\n",
      "[CV] .................... C=100.0, gamma=0.01, score=0.770601 -   0.2s\n",
      "[CV] C=100.0, gamma=0.01 .............................................\n",
      "[CV] .................... C=100.0, gamma=0.01, score=0.779279 -   0.2s\n",
      "[CV] C=100.0, gamma=0.1 ..............................................\n",
      "[CV] ..................... C=100.0, gamma=0.1, score=0.105727 -   0.2s\n",
      "[CV] C=100.0, gamma=0.1 ..............................................\n",
      "[CV] ..................... C=100.0, gamma=0.1, score=0.104677 -   0.2s\n",
      "[CV] C=100.0, gamma=0.1 ..............................................\n",
      "[CV] ..................... C=100.0, gamma=0.1, score=0.105856 -   0.2s\n"
     ]
    },
    {
     "name": "stderr",
     "output_type": "stream",
     "text": [
      "[Parallel(n_jobs=1)]: Done  90 out of  90 | elapsed:   14.5s finished\n"
     ]
    },
    {
     "data": {
      "text/plain": [
       "GridSearchCV(cv=None, error_score='raise',\n",
       "       estimator=SVC(C=1.0, cache_size=200, class_weight=None, coef0=0.0, degree=3, gamma=0.0,\n",
       "  kernel='rbf', max_iter=-1, probability=False, random_state=None,\n",
       "  shrinking=True, tol=0.001, verbose=False),\n",
       "       fit_params={}, iid=True, loss_func=None, n_jobs=1,\n",
       "       param_grid={'C': array([   0.001,    0.01 ,    0.1  ,    1.   ,   10.   ,  100.   ]), 'gamma': array([ 0.00001,  0.0001 ,  0.001  ,  0.01   ,  0.1    ])},\n",
       "       pre_dispatch='2*n_jobs', refit=True, score_func=None, scoring=None,\n",
       "       verbose=3)"
      ]
     },
     "execution_count": 5,
     "metadata": {},
     "output_type": "execute_result"
    }
   ],
   "source": [
    "grid_search.fit(X_train, y_train)"
   ]
  },
  {
   "cell_type": "code",
   "execution_count": 6,
   "metadata": {
    "collapsed": false
   },
   "outputs": [
    {
     "data": {
      "text/plain": [
       "array([8, 4, 6, 7, 5, 8, 9, 0, 1, 5, 0, 5, 9, 4, 8, 9, 0, 8, 3, 6, 9, 8, 0,\n",
       "       3, 8, 2, 0, 3, 2, 1, 5, 4, 4, 1, 8, 9, 4, 4, 1, 6, 3, 1, 0, 7, 3, 5,\n",
       "       2, 8, 6, 8, 0, 6, 7, 1, 6, 0, 1, 4, 7, 4, 4, 4, 7, 1, 8, 1, 0, 8, 7,\n",
       "       6, 6, 1, 5, 8, 9, 1, 8, 3, 4, 5, 2, 5, 8, 8, 3, 5, 9, 1, 0, 9, 3, 8,\n",
       "       1, 1, 3, 8, 9, 2, 5, 7, 3, 7, 2, 8, 8, 8, 8, 8, 9, 8, 0, 2, 8, 3, 0,\n",
       "       8, 0, 1, 1, 1, 8, 0, 9, 2, 4, 6, 9, 3, 1, 2, 3, 5, 9, 7, 6, 5, 8, 6,\n",
       "       9, 7, 3, 7, 1, 7, 2, 2, 6, 9, 4, 1, 3, 8, 5, 7, 7, 5, 6, 9, 7, 8, 2,\n",
       "       4, 1, 3, 0, 0, 0, 6, 5, 1, 0, 9, 4, 2, 7, 6, 6, 0, 9, 9, 8, 8, 8, 4,\n",
       "       9, 3, 4, 3, 3, 5, 6, 9, 1, 4, 5, 3, 4, 4, 0, 4, 0, 4, 2, 0, 2, 6, 4,\n",
       "       8, 4, 8, 6, 8, 0, 6, 3, 1, 7, 9, 2, 0, 9, 5, 4, 7, 3, 1, 3, 8, 3, 9,\n",
       "       3, 7, 1, 8, 4, 3, 0, 0, 3, 0, 5, 2, 5, 6, 8, 6, 5, 6, 9, 8, 4, 3, 3,\n",
       "       4, 9, 9, 5, 4, 3, 9, 0, 0, 5, 9, 6, 7, 9, 1, 3, 9, 0, 2, 2, 4, 5, 4,\n",
       "       6, 9, 0, 0, 4, 2, 8, 8, 3, 6, 0, 1, 9, 5, 7, 7, 6, 8, 5, 4, 0, 5, 1,\n",
       "       8, 4, 7, 3, 3, 9, 2, 7, 6, 7, 2, 7, 6, 2, 3, 9, 5, 7, 7, 0, 5, 6, 3,\n",
       "       6, 2, 8, 8, 8, 3, 6, 7, 8, 1, 0, 8, 3, 5, 8, 2, 7, 0, 9, 3, 2, 5, 7,\n",
       "       6, 1, 0, 3, 6, 5, 4, 6, 1, 2, 7, 9, 3, 6, 0, 9, 3, 0, 7, 1, 7, 2, 4,\n",
       "       3, 1, 2, 7, 4, 6, 6, 1, 5, 9, 8, 2, 7, 0, 6, 4, 4, 4, 7, 7, 1, 6, 2,\n",
       "       0, 2, 6, 5, 1, 3, 3, 7, 5, 7, 8, 9, 1, 9, 4, 3, 3, 7, 6, 5, 7, 5, 8,\n",
       "       9, 7, 4, 1, 1, 2, 5, 3, 4, 5, 6, 6, 2, 1, 8, 4, 6, 1, 5, 7, 5, 3, 9,\n",
       "       1, 1, 5, 7, 1, 0, 7, 5, 2, 0, 9, 2, 0])"
      ]
     },
     "execution_count": 6,
     "metadata": {},
     "output_type": "execute_result"
    }
   ],
   "source": [
    "grid_search.predict(X_test)"
   ]
  },
  {
   "cell_type": "code",
   "execution_count": 7,
   "metadata": {
    "collapsed": false
   },
   "outputs": [
    {
     "data": {
      "text/plain": [
       "0.98444444444444446"
      ]
     },
     "execution_count": 7,
     "metadata": {},
     "output_type": "execute_result"
    }
   ],
   "source": [
    "grid_search.score(X_test, y_test)"
   ]
  },
  {
   "cell_type": "code",
   "execution_count": 8,
   "metadata": {
    "collapsed": false
   },
   "outputs": [
    {
     "data": {
      "text/plain": [
       "{'C': 10.0, 'gamma': 0.001}"
      ]
     },
     "execution_count": 8,
     "metadata": {},
     "output_type": "execute_result"
    }
   ],
   "source": [
    "grid_search.best_params_"
   ]
  },
  {
   "cell_type": "code",
   "execution_count": 9,
   "metadata": {
    "collapsed": false
   },
   "outputs": [
    {
     "data": {
      "image/png": "[encoded data removed]",
      "text/plain": [
       "<matplotlib.figure.Figure at 0x7fa594bad710>"
      ]
     },
     "metadata": {},
     "output_type": "display_data"
    }
   ],
   "source": [
    "# We extract just the scores\n",
    "%matplotlib inline\n",
    "import matplotlib.pyplot as plt\n",
    "\n",
    "scores = [x[1] for x in grid_search.grid_scores_]\n",
    "scores = np.array(scores).reshape(6, 5)\n",
    "\n",
    "plt.matshow(scores)\n",
    "plt.xlabel('gamma')\n",
    "plt.ylabel('C')\n",
    "plt.colorbar()\n",
    "plt.xticks(np.arange(5), param_grid['gamma'])\n",
    "plt.yticks(np.arange(6), param_grid['C']);"
   ]
  },
  {
   "cell_type": "markdown",
   "metadata": {
    "collapsed": false
   },
   "source": [
    "# Randomized Search"
   ]
  },
  {
   "cell_type": "code",
   "execution_count": 1,
   "metadata": {
    "collapsed": false
   },
   "outputs": [
    {
     "ename": "NameError",
     "evalue": "name 'plt' is not defined",
     "output_type": "error",
     "traceback": [
      "\u001b[1;31m---------------------------------------------------------------------------\u001b[0m",
      "\u001b[1;31mNameError\u001b[0m                                 Traceback (most recent call last)",
      "\u001b[1;32m<ipython-input-1-e6395a2a07ef>\u001b[0m in \u001b[0;36m<module>\u001b[1;34m()\u001b[0m\n\u001b[0;32m      2\u001b[0m \u001b[1;32mfrom\u001b[0m \u001b[0mscipy\u001b[0m\u001b[1;33m.\u001b[0m\u001b[0mstats\u001b[0m \u001b[1;32mimport\u001b[0m \u001b[0mexpon\u001b[0m\u001b[1;33m\u001b[0m\u001b[0m\n\u001b[0;32m      3\u001b[0m \u001b[1;33m\u001b[0m\u001b[0m\n\u001b[1;32m----> 4\u001b[1;33m \u001b[0mplt\u001b[0m\u001b[1;33m.\u001b[0m\u001b[0mhist\u001b[0m\u001b[1;33m(\u001b[0m\u001b[1;33m[\u001b[0m\u001b[0mexpon\u001b[0m\u001b[1;33m.\u001b[0m\u001b[0mrvs\u001b[0m\u001b[1;33m(\u001b[0m\u001b[1;33m)\u001b[0m \u001b[1;32mfor\u001b[0m \u001b[0mx\u001b[0m \u001b[1;32min\u001b[0m \u001b[0mxrange\u001b[0m\u001b[1;33m(\u001b[0m\u001b[1;36m1000\u001b[0m\u001b[1;33m)\u001b[0m\u001b[1;33m]\u001b[0m\u001b[1;33m)\u001b[0m\u001b[1;33m\u001b[0m\u001b[0m\n\u001b[0m",
      "\u001b[1;31mNameError\u001b[0m: name 'plt' is not defined"
     ]
    }
   ],
   "source": [
    "from sklearn.grid_search import RandomizedSearchCV\n",
    "from scipy.stats import expon\n",
    "\n",
    "plt.hist([expon.rvs() for x in xrange(1000)])"
   ]
  },
  {
   "cell_type": "code",
   "execution_count": 2,
   "metadata": {
    "collapsed": false
   },
   "outputs": [
    {
     "ename": "NameError",
     "evalue": "name 'SVC' is not defined",
     "output_type": "error",
     "traceback": [
      "\u001b[1;31m---------------------------------------------------------------------------\u001b[0m",
      "\u001b[1;31mNameError\u001b[0m                                 Traceback (most recent call last)",
      "\u001b[1;32m<ipython-input-2-e21d47eef1a9>\u001b[0m in \u001b[0;36m<module>\u001b[1;34m()\u001b[0m\n\u001b[0;32m      1\u001b[0m \u001b[1;33m\u001b[0m\u001b[0m\n\u001b[0;32m      2\u001b[0m \u001b[0mparams\u001b[0m \u001b[1;33m=\u001b[0m \u001b[1;33m{\u001b[0m\u001b[1;34m'C'\u001b[0m\u001b[1;33m:\u001b[0m \u001b[0mexpon\u001b[0m\u001b[1;33m(\u001b[0m\u001b[1;33m)\u001b[0m\u001b[1;33m,\u001b[0m \u001b[1;34m'gamma'\u001b[0m\u001b[1;33m:\u001b[0m \u001b[0mexpon\u001b[0m\u001b[1;33m(\u001b[0m\u001b[1;33m)\u001b[0m\u001b[1;33m}\u001b[0m\u001b[1;33m\u001b[0m\u001b[0m\n\u001b[1;32m----> 3\u001b[1;33m \u001b[0mrs\u001b[0m \u001b[1;33m=\u001b[0m \u001b[0mRandomizedSearchCV\u001b[0m\u001b[1;33m(\u001b[0m\u001b[0mSVC\u001b[0m\u001b[1;33m(\u001b[0m\u001b[1;33m)\u001b[0m\u001b[1;33m,\u001b[0m \u001b[0mparam_distributions\u001b[0m\u001b[1;33m=\u001b[0m\u001b[0mparams\u001b[0m\u001b[1;33m,\u001b[0m \u001b[0mn_iter\u001b[0m\u001b[1;33m=\u001b[0m\u001b[1;36m50\u001b[0m\u001b[1;33m,\u001b[0m \u001b[0mverbose\u001b[0m\u001b[1;33m=\u001b[0m\u001b[1;36m3\u001b[0m\u001b[1;33m)\u001b[0m\u001b[1;33m\u001b[0m\u001b[0m\n\u001b[0m",
      "\u001b[1;31mNameError\u001b[0m: name 'SVC' is not defined"
     ]
    }
   ],
   "source": [
    "\n",
    "params = {'C': expon(), 'gamma': expon()}\n",
    "rs = RandomizedSearchCV(SVC(), param_distributions=params, n_iter=50, verbose=3)"
   ]
  },
  {
   "cell_type": "code",
   "execution_count": null,
   "metadata": {
    "collapsed": true
   },
   "outputs": [],
   "source": [
    "rs.best_params_"
   ]
  },
  {
   "cell_type": "code",
   "execution_count": 3,
   "metadata": {
    "collapsed": false
   },
   "outputs": [
    {
     "ename": "NameError",
     "evalue": "name 'rs' is not defined",
     "output_type": "error",
     "traceback": [
      "\u001b[1;31m---------------------------------------------------------------------------\u001b[0m",
      "\u001b[1;31mNameError\u001b[0m                                 Traceback (most recent call last)",
      "\u001b[1;32m<ipython-input-3-8c11dd424ba0>\u001b[0m in \u001b[0;36m<module>\u001b[1;34m()\u001b[0m\n\u001b[1;32m----> 1\u001b[1;33m \u001b[0mrs\u001b[0m\u001b[1;33m.\u001b[0m\u001b[0mbest_score_\u001b[0m\u001b[1;33m\u001b[0m\u001b[0m\n\u001b[0m",
      "\u001b[1;31mNameError\u001b[0m: name 'rs' is not defined"
     ]
    }
   ],
   "source": [
    "rs.best_score_"
   ]
  },
  {
   "cell_type": "code",
   "execution_count": null,
   "metadata": {
    "collapsed": true
   },
   "outputs": [],
   "source": [
    "scores, Cs, gammas = zip(*[(score.mean_validation_score, score.parameters['C'], score.parameters['gamma']) for score in rs.grid_scores_])"
   ]
  },
  {
   "cell_type": "code",
   "execution_count": null,
   "metadata": {
    "collapsed": true
   },
   "outputs": [],
   "source": [
    "plt.scatter(Cs, gammas, s=40, c=scores)\n",
    "plt.xlabel(\"C\")\n",
    "plt.ylabel(\"gamma\")"
   ]
  }
 ],
 "metadata": {
  "kernelspec": {
   "display_name": "Python 2",
   "language": "python",
   "name": "python2"
  },
  "language_info": {
   "codemirror_mode": {
    "name": "ipython",
    "version": 2
   },
   "file_extension": ".py",
   "mimetype": "text/x-python",
   "name": "python",
   "nbconvert_exporter": "python",
   "pygments_lexer": "ipython2",
   "version": "2.7.9"
  }
 },
 "nbformat": 4,
 "nbformat_minor": 0
}
